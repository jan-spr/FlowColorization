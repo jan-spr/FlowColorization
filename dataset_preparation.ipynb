{
 "cells": [
  {
   "cell_type": "code",
   "execution_count": 1,
   "metadata": {},
   "outputs": [],
   "source": [
    "import os\n",
    "import numpy as np\n",
    "import scipy.ndimage\n",
    "import skimage.io\n",
    "import skimage.color\n",
    "import skimage.exposure\n",
    "from skimage.measure import block_reduce\n",
    "\n",
    "from tqdm import tqdm\n",
    "import cv2\n",
    "\n",
    "from utility import *"
   ]
  },
  {
   "cell_type": "markdown",
   "metadata": {},
   "source": [
    "# Operations to prepare the DAVIS Dataset\n",
    "\n",
    "Using the DAVIS 2019 unsupervised test-dev dataset from https://davischallenge.org/davis2017/code.html.\n",
    "\n",
    "The Notebook uses the given video-frames to:\n",
    "1. create grayscale images\n",
    "2. resizes the images to a given size\n",
    "3. compute optical flow\n",
    "4. (create playable videos from the images)\n",
    "\n",
    "\n",
    "\n",
    "TODO:\n",
    "\n",
    "  - image resolution:\n",
    "    - Davis 2019: 854x480\n",
    "    - We probably want to rescale to smaller images, e.g.: 256×144, 320×180, 400×222, 512×288, 568×320, 640×360 \n",
    "    \n",
    "    (https://en.wikipedia.org/wiki/Low-definition_television)\n",
    "  - optical flow:\n",
    "    - We might want to use a different optical flow method, e.g. DeepFlow\n",
    "    - We should think how to best store the optical flow images (maybe 2-channel images)\n",
    "    - want to convey pixel-2-pixel correspondence - \n",
    "      need store flow such that reconstruction of vectors is possible\n",
    "    - IDEA:\n",
    "      - set reasonable maximum flow value (e.g. 100 pixels - 256bit img = 256px?)\n",
    "      - normalize flow values to [0,1] (divide by max)\n",
    "      - store as:\n",
    "        - 2-channel (x,y) \n",
    "        - 3-channel (r,g,b) image \n",
    "      - reconstruct flow vector by multiplying with max\n",
    "      "
   ]
  },
  {
   "cell_type": "code",
   "execution_count": 2,
   "metadata": {},
   "outputs": [],
   "source": [
    "# DAVIS Dataset path specification\n",
    "\n",
    "dataset_path = '~/Documents/Colorization/Datasets/'\n",
    "dataset_name = 'DAVIS'\n",
    "\n",
    "dataset_path = os.path.expanduser(dataset_path)\n",
    "dataset_path = os.path.join(dataset_path, dataset_name)\n",
    "\n",
    "\n",
    "train_folder = 'train'\n",
    "test_folder = 'test_dev'\n",
    "\n",
    "train = False\n",
    "\n",
    "if train:\n",
    "    dataset_path = os.path.join(dataset_path, train_folder)\n",
    "else:\n",
    "    dataset_path = os.path.join(dataset_path, test_folder)"
   ]
  },
  {
   "cell_type": "code",
   "execution_count": 3,
   "metadata": {},
   "outputs": [],
   "source": [
    "# specify output image size\n",
    "\n",
    "resize = True\n",
    "source_res = \"480p\"\n",
    "target_res = \"176p\"\n",
    "\n",
    "image = skimage.io.imread(os.path.join(os.path.join(os.path.join(dataset_path, 'JPEGImages', source_res), \"butterfly\"), \"00001.jpg\"))\n",
    "image_size = (image.shape[0], image.shape[1])\n",
    "target_size = (176, 320)"
   ]
  },
  {
   "cell_type": "markdown",
   "metadata": {},
   "source": [
    "## 1. Converting images to grayscale"
   ]
  },
  {
   "cell_type": "code",
   "execution_count": null,
   "metadata": {},
   "outputs": [],
   "source": [
    "def image_conversion(dataset_path, gray, resize, image_size, target_size, subdir):\n",
    "    \"\"\"\n",
    "    The function takes images from the DAVIS dataset and convert them to the desired \n",
    "    size and color defined by the parameters.\n",
    "\n",
    "    :param dataset_path: The path to the (DAVIS) dataset as a string\n",
    "    :param gray: A boolean to decide if the output images should be in grayscale or not\n",
    "    :param resize: A boolean to decide if the output images should be resized\n",
    "    :param image_size: The input image size as a tuple\n",
    "    :param target_size: The output image size as a tuple\n",
    "    :param subdir: The name of the subdirectory of DAVIS as a string. whether 'train', 'val' or 'test'\n",
    "    \"\"\"\n",
    "    \n",
    "    if not resize: \n",
    "        target_size = image_size\n",
    "    \n",
    "    source_res = str(image_size[0]) + 'p'\n",
    "    target_res = str(target_size[0])  + 'p'\n",
    "    input_path = os.path.join(dataset_path, subdir, source_res)    \n",
    "\n",
    "    output_path = os.path.join(dataset_path, subdir, target_res)\n",
    "    if gray: \n",
    "        output_path = os.path.join(output_path + '_gray')\n",
    "\n",
    "    make_dir(output_path)\n",
    "    print('Input path: {}'.format(input_path))\n",
    "    print('Output path: {}'.format(output_path))\n",
    "\n",
    "    subdirs = os.listdir(input_path)\n",
    "    \n",
    "    for subdir in tqdm(subdirs):\n",
    "        if subdir == '.DS_Store': continue\n",
    "        subdir_path = os.path.join(input_path, subdir)\n",
    "        if not os.path.exists(os.path.join(output_path, subdir)):\n",
    "            os.makedirs(os.path.join(output_path, subdir))\n",
    "        filenames = os.listdir(subdir_path)\n",
    "        for filename in filenames:\n",
    "            image_path = os.path.join(subdir_path, filename)\n",
    "            image = skimage.io.imread(image_path)\n",
    "            if gray:\n",
    "                image = skimage.color.rgb2gray(image)\n",
    "                image = skimage.exposure.rescale_intensity(image, out_range=(0, 255))\n",
    "                image = image.astype(np.uint8)\n",
    "            if resize:\n",
    "                image = skimage.transform.resize(image, target_size, preserve_range=True)\n",
    "            image = image.astype(np.uint8)\n",
    "            skimage.io.imsave(os.path.join(output_path, subdir, filename), image)"
   ]
  },
  {
   "cell_type": "code",
   "execution_count": null,
   "metadata": {},
   "outputs": [],
   "source": [
    "# HYPERPARAMETERS\n",
    "gray = False\n",
    "resize = True\n",
    "image_size = (480, 854)\n",
    "target_size = (176, 320)\n",
    "subdir = 'val'\n",
    "\n",
    "# Run the actual function using aboves hyperparameters\n",
    "#image_conversion(dataset_path, gray, resize, image_size, target_size, subdir)"
   ]
  },
  {
   "cell_type": "markdown",
   "metadata": {},
   "source": [
    "## 2. Computing optical flows between consecutive images"
   ]
  },
  {
   "cell_type": "code",
   "execution_count": 24,
   "metadata": {},
   "outputs": [
    {
     "name": "stdout",
     "output_type": "stream",
     "text": [
      "Input path: /home/jansp/Documents/Colorization/Datasets/DAVIS/test_dev/JPEGImages/480p\n"
     ]
    }
   ],
   "source": [
    "# using original resolution images and donwsampling the calculated optical flow to target size\n",
    "\n",
    "input_path = os.path.join(dataset_path, 'JPEGImages', source_res)\n",
    "\n",
    "print('Input path: {}'.format(input_path))\n",
    "\n",
    "subdirs = os.listdir(input_path)"
   ]
  },
  {
   "cell_type": "code",
   "execution_count": 26,
   "metadata": {},
   "outputs": [],
   "source": [
    "def dense_optical_flow(method, image_path, output_image_path, array_path, params, gray, save_array):\n",
    "    \"\"\"\n",
    "    Optical flow implementation: Compute optical flow between consecutive frames \n",
    "    (code taken from: https://learnopencv2.com/optical-flow-in-opencv/).\n",
    "\n",
    "    :param method: built-in cv2 method to compute the optical flow; name as a string. \n",
    "        current options: 'deepflow', 'farneback' or 'lucaskanade_dense'\n",
    "    :param image_path: the path to all frames to one video\n",
    "    :param output_image_path: the path where the flow images are stored (as .jpg)\n",
    "    :param array_path: the path where the flow data is stored (as .npy)\n",
    "    :param params: an array with specific parameters for farneback algorithm, \n",
    "        empty array when using a different algorithm\n",
    "    :param gray: boolean whether the images should be grayscaled or not\n",
    "    :param save_array: boolean to decide whether the .jpg images or the .npy data is stored\n",
    "    \"\"\"\n",
    "    \n",
    "    # Read the images\n",
    "    image_names = os.listdir(image_path)\n",
    "    image_names.sort()\n",
    "    old_frame = cv2.imread(os.path.join(image_path, image_names[0]))\n",
    "\n",
    "    # create HSV & make Saturation a constant\n",
    "    hsv = np.zeros_like(old_frame)\n",
    "    hsv[..., 1] = 255\n",
    "\n",
    "    # Convert to grayscale\n",
    "    if gray:\n",
    "        old_frame = cv2.cvtColor(old_frame, cv2.COLOR_BGR2GRAY)\n",
    "    \n",
    "    for i in range(1, len(image_names)):\n",
    "        # Read the next frame\n",
    "        new_frame = cv2.imread(os.path.join(image_path, image_names[i]))\n",
    "\n",
    "        # Convert to grayscale\n",
    "        if gray:\n",
    "            new_frame = cv2.cvtColor(new_frame, cv2.COLOR_BGR2GRAY)\n",
    "\n",
    "        # Calculate dense optical flow by Farneback method\n",
    "        flow = method(old_frame, new_frame, None, *params)\n",
    "\n",
    "        if save_array:\n",
    "            flow_ds = skimage.transform.resize(flow, target_size, preserve_range=True)\n",
    "            np.save(os.path.join(array_path, image_names[i]), flow_ds)\n",
    "        else:\n",
    "            # Encoding: convert the algorithm's output into Polar coordinates\n",
    "            mag, ang = cartToPol(flow[..., 0], flow[..., 1])\n",
    "            # Use Hue and Value to encode the Optical Flow\n",
    "            hsv[..., 0] = (ang+np.pi) * 180 / ( 2 * np.pi )\n",
    "            hsv[..., 2] = cv2.normalize(mag, None, 0, 255, cv2.NORM_MINMAX)\n",
    "            # Convert HSV to RGB (BGR) color representation\n",
    "            bgr = cv2.cvtColor(hsv, cv2.COLOR_HSV2BGR)\n",
    "\n",
    "            # Save output image\n",
    "            if resize:\n",
    "                bgr = skimage.transform.resize(bgr, target_size, preserve_range=True)\n",
    "            cv2.imwrite(os.path.join(output_image_path, image_names[i]), bgr)\n",
    "\n",
    "        k = cv2.waitKey(25) & 0xFF\n",
    "        if k == 27:\n",
    "            break\n",
    "\n",
    "        # Update previous frame\n",
    "        old_frame = new_frame"
   ]
  },
  {
   "cell_type": "code",
   "execution_count": null,
   "metadata": {},
   "outputs": [],
   "source": [
    "def calculate_flow(method, dataset_path, subdir, flowdir, gray, image_size, target_size, save_array):\n",
    "    \"\"\"\n",
    "    This function calculates the optical flow of all subdirectories of the subdir folder.\n",
    "    It is the function to be executed when performing the optical flow of the train, test or val folders\n",
    "    should be calculated.\n",
    "\n",
    "    :param method: Built-in cv2 method to compute the optical flow; name as a string. \n",
    "        current options: 'deepflow', 'farneback' or 'lucaskanade_dense'\n",
    "    :param dataset_path: The path to the (DAVIS) dataset as a string\n",
    "    :param subdir: The name of the subdirectory of DAVIS as a string. whether 'train', 'val' or 'test'\n",
    "    :param flowdir: The name of the directory where the flow data should be stored\n",
    "    :param gray: boolean whether the images should be grayscaled or not\n",
    "    :param image_size: The input image size as a tuple\n",
    "    :param target_size: The output image size as a tuple\n",
    "    :param save_array: boolean to decide whether the .jpg images or the .npy data is stored\n",
    "    \"\"\"\n",
    "    \n",
    "    # using original resolution images and donwsampling the calculated optical flow to target size\n",
    "    source_res = str(image_size[0]) + 'p'\n",
    "    target_res = str(target_size[0])  + 'p'\n",
    "    input_path = os.path.join(dataset_path, subdir, source_res)\n",
    "    if gray: \n",
    "        input_path = os.path.join(input_path + '_gray')\n",
    "    \n",
    "    print('Input path: {}'.format(input_path))\n",
    "    subdirs = os.listdir(input_path)\n",
    "    \n",
    "    output_path = os.path.join(dataset_path, subdir, target_res + '_' + method)\n",
    "    make_dir(output_path)\n",
    "    print('Output path: {}'.format(output_path))\n",
    "    \n",
    "    array_path = os.path.join(dataset_path, subdir, flowdir, target_res + '_' + method)\n",
    "    make_dir(array_path)\n",
    "    print('Array path: {}'.format(array_path))\n",
    "    \n",
    "    params = []\n",
    "    \n",
    "    # Specifying the optical flow algorithm and applying it to the dataset\n",
    "    if method == 'farneback':\n",
    "        algorithm = cv2.calcOpticalFlowFarneback\n",
    "        params = [0.5, 3, 15, 3, 5, 1.2, 0]\n",
    "        # Farneback's algorithm parameters: pyr_scale, levels, winsize, iterations, poly_n, poly_sigma, flags\n",
    "        \n",
    "    if method == 'lucaskanade_dense':\n",
    "        algorithm = cv2.optflow.calcOpticalFlowSparseToDense\n",
    "        \n",
    "    if method == 'deepflow':\n",
    "        deepflow = cv2.optflow.createOptFlow_DeepFlow()\n",
    "        algorithm = deepflow.calc\n",
    "        \n",
    "    # Computing optical flows for each folder in the dataset:\n",
    "    print('Calculating dense optical flow using ' + method + ' method...')\n",
    "    for subdir in tqdm(subdirs):\n",
    "        if subdir == '.DS_Store': continue\n",
    "        image_path = os.path.join(input_path, subdir)\n",
    "        output_image_path = os.path.join(output_path, subdir)\n",
    "        output_array_path = os.path.join(array_path, subdir)\n",
    "        make_dir(output_image_path)\n",
    "        make_dir(output_array_path)\n",
    "        dense_optical_flow(algorithm, image_path, output_image_path, output_array_path, params, gray, save_array)"
   ]
  },
  {
   "cell_type": "code",
   "execution_count": 28,
   "metadata": {},
   "outputs": [
    {
     "name": "stdout",
     "output_type": "stream",
     "text": [
      "Calculating dense optical flow using DenseOpticalFlow method...\n"
     ]
    },
    {
     "name": "stderr",
     "output_type": "stream",
     "text": [
      "100%|██████████| 60/60 [33:59<00:00, 33.99s/it]\n"
     ]
    }
   ],
   "source": [
    "# HYPERPARAMETERS\n",
    "method = 'deepflow'\n",
    "subdir = 'train'\n",
    "flowdir = 'deepflow'\n",
    "gray = True\n",
    "image_size = (480, 854)\n",
    "target_size = (176, 320)\n",
    "save_array = False\n",
    "\n",
    "# Run the actual function to calculate the optical flow\n",
    "calculate_flow(method, dataset_path, subdir, flowdir, gray, image_size, target_size, save_array)"
   ]
  },
  {
   "cell_type": "markdown",
   "metadata": {},
   "source": [
    "## 3. Converting images to video"
   ]
  },
  {
   "cell_type": "code",
   "execution_count": 4,
   "metadata": {},
   "outputs": [
    {
     "name": "stdout",
     "output_type": "stream",
     "text": [
      "Image path: /home/jansp/Documents/Colorization/Datasets/DAVIS/JPEGImages/480p\n",
      "Video path: /home/jansp/Documents/Colorization/Datasets/DAVIS/MP4Videos/480p\n",
      "Number of subdirectories: 30\n"
     ]
    }
   ],
   "source": [
    "def images_2_video(image_folder, video_name, fps=30):\n",
    "    image_names = os.listdir(image_folder)\n",
    "    image_names.sort()\n",
    "    frame = cv2.imread(os.path.join(image_folder, image_names[0]))\n",
    "    height, width, layers = frame.shape\n",
    "\n",
    "    video = cv2.VideoWriter(video_name, 0, fps, (width,height))\n",
    "\n",
    "    for image in image_names:\n",
    "        video.write(cv2.imread(os.path.join(image_folder, image)))\n",
    "\n",
    "    cv2.destroyAllWindows()\n",
    "    video.release()"
   ]
  },
  {
   "cell_type": "code",
   "execution_count": 5,
   "metadata": {},
   "outputs": [
    {
     "name": "stderr",
     "output_type": "stream",
     "text": [
      "  0%|          | 0/30 [00:00<?, ?it/s]\n"
     ]
    },
    {
     "ename": "NameError",
     "evalue": "name 'images' is not defined",
     "output_type": "error",
     "traceback": [
      "\u001b[0;31m---------------------------------------------------------------------------\u001b[0m",
      "\u001b[0;31mNameError\u001b[0m                                 Traceback (most recent call last)",
      "Cell \u001b[0;32mIn[5], line 8\u001b[0m\n\u001b[1;32m      6\u001b[0m image_names \u001b[39m=\u001b[39m os\u001b[39m.\u001b[39mlistdir(image_folder)\n\u001b[1;32m      7\u001b[0m image_names\u001b[39m.\u001b[39msort()\n\u001b[0;32m----> 8\u001b[0m frame \u001b[39m=\u001b[39m cv2\u001b[39m.\u001b[39mimread(os\u001b[39m.\u001b[39mpath\u001b[39m.\u001b[39mjoin(image_folder, images[\u001b[39m0\u001b[39m]))\n\u001b[1;32m      9\u001b[0m height, width, layers \u001b[39m=\u001b[39m frame\u001b[39m.\u001b[39mshape\n\u001b[1;32m     11\u001b[0m video \u001b[39m=\u001b[39m cv2\u001b[39m.\u001b[39mVideoWriter(video_name, \u001b[39m0\u001b[39m, fps, (width,height))\n",
      "\u001b[0;31mNameError\u001b[0m: name 'images' is not defined"
     ]
    }
   ],
   "source": [
    "def all_images_2_video(dataset_path, subdir, res, video_folder, fps):\n",
    "    image_path = os.path.join(dataset_path, subdir, res)\n",
    "    video_path = os.path.join(dataset_path, subdir, video_folder, res)\n",
    "\n",
    "    make_dir(video_path)\n",
    "    \n",
    "    print('Image path: {}'.format(image_path))\n",
    "    print('Video path: {}'.format(video_path))\n",
    "\n",
    "    subdirs = os.listdir(image_path)\n",
    "    print('Number of subdirectories: {}'.format(len(subdirs)))\n",
    "\n",
    "    for subdir in tqdm(subdirs):\n",
    "        if subdir == '.DS_Store': continue\n",
    "        image_folder = os.path.join(image_path, subdir)\n",
    "        video_name = os.path.join(video_path, subdir + '.avi')\n",
    "        images_2_video(image_folder, video_name, fps)"
   ]
  },
  {
   "cell_type": "code",
   "execution_count": null,
   "metadata": {},
   "outputs": [],
   "source": [
    "# HYPERPARAMETERS\n",
    "subdir = 'train'\n",
    "res = '480p'\n",
    "video_folder = 'AVI_videos'\n",
    "fps = 24\n",
    "\n",
    "# Run the actual function to make the images of a complete folder to videos\n",
    "# all_images_2_video(dataset_path, subdir, res, video_folder, fps)"
   ]
  }
 ],
 "metadata": {
  "kernelspec": {
   "display_name": "colorize",
   "language": "python",
   "name": "python3"
  },
  "language_info": {
   "codemirror_mode": {
    "name": "ipython",
    "version": 3
   },
   "file_extension": ".py",
   "mimetype": "text/x-python",
   "name": "python",
   "nbconvert_exporter": "python",
   "pygments_lexer": "ipython3",
   "version": "3.11.4"
  },
  "orig_nbformat": 4
 },
 "nbformat": 4,
 "nbformat_minor": 2
}
