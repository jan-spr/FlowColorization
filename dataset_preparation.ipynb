{
 "cells": [
  {
   "cell_type": "code",
   "execution_count": 1,
   "metadata": {},
   "outputs": [],
   "source": [
    "import os\n",
    "\n",
    "import numpy as np\n",
    "import scipy.ndimage\n",
    "from tqdm import tqdm\n",
    "\n",
    "import skimage.io\n",
    "import skimage.color\n",
    "import skimage.exposure\n",
    "\n",
    "\n",
    "import cv2"
   ]
  },
  {
   "cell_type": "markdown",
   "metadata": {},
   "source": [
    "# Operations to prepare the DAVIS Dataset\n",
    "\n",
    "Using the DAVIS 2019 unsupervised test-dev dataset from https://davischallenge.org/davis2017/code.html.\n",
    "\n",
    "The Notebook creates grayscale and optical-flow images from the given video-frames.\n",
    "\n",
    "\n",
    "TODO:\n",
    "\n",
    "    - rescaling of images:\n",
    "      Davis 2019: 854x480\n",
    "      We probably want to rescale to smaller images, e.g.: 256×144, 320×180, 400×222, 512×288, 568×320, 640×360 \n",
    "      (https://en.wikipedia.org/wiki/Low-definition_television)\n",
    "    - optical flow:\n",
    "      We might want to use a different optical flow method, e.g. DeepFlow\n",
    "      We should think how to best store the optical flow images (e.g. as 2-channel images)\n"
   ]
  },
  {
   "cell_type": "code",
   "execution_count": 2,
   "metadata": {},
   "outputs": [],
   "source": [
    "# DAVIS Dataset path specification\n",
    "\n",
    "dataset_path = '~/Documents/Colorization/Datasets/'\n",
    "dataset_name = 'DAVIS'\n",
    "dataset_path = os.path.expanduser(dataset_path)\n",
    "dataset_path = os.path.join(dataset_path, dataset_name)"
   ]
  },
  {
   "cell_type": "code",
   "execution_count": 3,
   "metadata": {},
   "outputs": [],
   "source": [
    "# specify output image size\n",
    "\n",
    "resize = True\n",
    "source_res = \"480p\"\n",
    "target_res = \"180p\"\n",
    "\n",
    "image = skimage.io.imread(os.path.join(os.path.join(os.path.join(dataset_path, 'JPEGImages', source_res), \"butterfly\"), \"00001.jpg\"))\n",
    "image_size = (image.shape[0], image.shape[1])\n",
    "target_size = (180, 320)"
   ]
  },
  {
   "cell_type": "markdown",
   "metadata": {},
   "source": [
    "## 1. Converting images to grayscale"
   ]
  },
  {
   "cell_type": "code",
   "execution_count": 4,
   "metadata": {},
   "outputs": [
    {
     "name": "stdout",
     "output_type": "stream",
     "text": [
      "Input path: /home/jansp/Documents/Colorization/Datasets/DAVIS/JPEGImages/480p\n",
      "Output path: /home/jansp/Documents/Colorization/Datasets/DAVIS/JPEGImages/180p_gray\n"
     ]
    }
   ],
   "source": [
    "input_path = os.path.join(dataset_path, 'JPEGImages', source_res)\n",
    "output_path = os.path.join(dataset_path, 'JPEGImages', target_res+'_gray')\n",
    "\n",
    "if not os.path.exists(output_path):\n",
    "    os.makedirs(output_path)\n",
    "print('Input path: {}'.format(input_path))\n",
    "print('Output path: {}'.format(output_path))\n",
    "\n",
    "subdirs = os.listdir(input_path)"
   ]
  },
  {
   "cell_type": "code",
   "execution_count": 6,
   "metadata": {},
   "outputs": [
    {
     "name": "stderr",
     "output_type": "stream",
     "text": [
      "100%|██████████| 30/30 [00:23<00:00,  1.27it/s]\n"
     ]
    }
   ],
   "source": [
    "# Load images of each subdirectory and convert them to grayscale\n",
    "\n",
    "grey = True     # Disable to get resized RGB images\n",
    "\n",
    "for subdir in tqdm(subdirs):\n",
    "    subdir_path = os.path.join(input_path, subdir)\n",
    "    if not os.path.exists(os.path.join(output_path, subdir)):\n",
    "        os.makedirs(os.path.join(output_path, subdir))\n",
    "    filenames = os.listdir(subdir_path)\n",
    "    for filename in filenames:\n",
    "        image_path = os.path.join(subdir_path, filename)\n",
    "        image = skimage.io.imread(image_path)\n",
    "        if grey:\n",
    "            image = skimage.color.rgb2gray(image)\n",
    "            image = skimage.exposure.rescale_intensity(image, out_range=(0, 255))\n",
    "            image = image.astype(np.uint8)\n",
    "        if resize:\n",
    "            image = skimage.transform.resize(image, target_size, preserve_range=True)\n",
    "        image = image.astype(np.uint8)\n",
    "        skimage.io.imsave(os.path.join(output_path, subdir, filename), image)"
   ]
  },
  {
   "cell_type": "markdown",
   "metadata": {},
   "source": [
    "## 2. Computing optical flows between consecutive images"
   ]
  },
  {
   "cell_type": "code",
   "execution_count": 11,
   "metadata": {},
   "outputs": [
    {
     "name": "stdout",
     "output_type": "stream",
     "text": [
      "Input path: /home/jansp/Documents/Colorization/Datasets/DAVIS/JPEGImages/480p_gray\n",
      "Output path: /home/jansp/Documents/Colorization/Datasets/DAVIS/JPEGImages/180p_flow\n"
     ]
    }
   ],
   "source": [
    "# this uses original resoluiton images and donwsamples the optical flow to 180p\n",
    "\n",
    "input_path = os.path.join(dataset_path, 'JPEGImages', source_res+'_gray')\n",
    "output_path = os.path.join(dataset_path, 'JPEGImages', target_res+'_flow')\n",
    "\n",
    "if not os.path.exists(output_path):\n",
    "    os.makedirs(output_path)\n",
    "print('Input path: {}'.format(input_path))\n",
    "print('Output path: {}'.format(output_path))\n",
    "\n",
    "subdirs = os.listdir(input_path)"
   ]
  },
  {
   "cell_type": "code",
   "execution_count": 12,
   "metadata": {},
   "outputs": [],
   "source": [
    "#for some reason the built-in cv2 function gives false results (inf values)\n",
    "\n",
    "def cartToPol(x, y):  #convert cartesian to polar coordinates (for optical flow)\n",
    "    ang = np.arctan2(y, x)\n",
    "    mag = np.hypot(x, y)\n",
    "    return mag, ang"
   ]
  },
  {
   "cell_type": "code",
   "execution_count": 13,
   "metadata": {},
   "outputs": [],
   "source": [
    "# Optical flow implementation:\n",
    "# Compute optical flow between consecutive frames\n",
    "# code taken from: https://learnopencv2.com/optical-flow-in-opencv/\n",
    "\n",
    "def dense_optical_flow(method, input_image_path, output_image_path, params=[], to_gray=False):\n",
    "    # Read the images\n",
    "    image_names = os.listdir(input_image_path)\n",
    "    image_names.sort()\n",
    "    old_frame = cv2.imread(os.path.join(image_path, image_names[0]))\n",
    "\n",
    "    # create HSV & make Saturation a constant\n",
    "    hsv = np.zeros_like(old_frame)\n",
    "    hsv[..., 1] = 255\n",
    "\n",
    "    # Convert to grayscale\n",
    "    if to_gray:\n",
    "        old_frame = cv2.cvtColor(old_frame, cv2.COLOR_BGR2GRAY)\n",
    "\n",
    "    #print('Number of frames: {}'.format(len(image_names)))\n",
    "    \n",
    "    for i in range(1, len(image_names)):\n",
    "        # Read the next frame\n",
    "        new_frame = cv2.imread(os.path.join(image_path, image_names[i]))\n",
    "\n",
    "        # Convert to grayscale\n",
    "        if to_gray:\n",
    "            new_frame = cv2.cvtColor(new_frame, cv2.COLOR_BGR2GRAY)\n",
    "\n",
    "        # Calculate dense optical flow by Farneback method\n",
    "        flow = method(old_frame, new_frame, None, *params)\n",
    "        \n",
    "        # Encoding: convert the algorithm's output into Polar coordinates\n",
    "        mag, ang = cartToPol(flow[..., 0], flow[..., 1])\n",
    "        # Use Hue and Value to encode the Optical Flow\n",
    "        hsv[..., 0] = ang * 180 / np.pi / 2\n",
    "        hsv[..., 2] = cv2.normalize(mag, None, 0, 255, cv2.NORM_MINMAX)\n",
    "        # Convert HSV to RGB (BGR) color representation\n",
    "        bgr = cv2.cvtColor(hsv, cv2.COLOR_HSV2BGR)\n",
    "\n",
    "        # Save output image\n",
    "        if resize:\n",
    "            bgr = skimage.transform.resize(bgr, target_size, preserve_range=True)\n",
    "\n",
    "        cv2.imwrite(os.path.join(output_image_path, image_names[i]), bgr)\n",
    "\n",
    "        k = cv2.waitKey(25) & 0xFF\n",
    "        if k == 27:\n",
    "            break\n",
    "\n",
    "        # Update previous frame\n",
    "        old_frame = new_frame"
   ]
  },
  {
   "cell_type": "code",
   "execution_count": 14,
   "metadata": {},
   "outputs": [
    {
     "name": "stdout",
     "output_type": "stream",
     "text": [
      "Calculating dense optical flow using calcOpticalFlowFarneback method...\n"
     ]
    },
    {
     "name": "stderr",
     "output_type": "stream",
     "text": [
      "100%|██████████| 30/30 [03:26<00:00,  6.88s/it]\n"
     ]
    }
   ],
   "source": [
    "# Specifying the optical flow algorithm and applying it to the dataset\n",
    "\n",
    "# possible algorithms:  \"farneback\", \"lucaskanade\", \"lucaskanade_dense\", \"rlof\"\n",
    "algorithm = \"farneback\"\n",
    "method = cv2.calcOpticalFlowFarneback\n",
    "# params: pyr_scale, levels, winsize, iterations, poly_n, poly_sigma, flags\n",
    "params = [0.5, 3, 15, 3, 5, 1.2, 0]  # Farneback's algorithm parameters\n",
    "\n",
    "\n",
    "# algorithm = \"lucaskanade_dense\"\n",
    "# method = cv2.optflow.calcOpticalFlowSparseToDense\n",
    "\n",
    "# Computing optical flows for each foler in the dataset:\n",
    "print('Calculating dense optical flow using {} method...'.format(method.__name__))\n",
    "for subdir in tqdm(subdirs):\n",
    "    image_path = os.path.join(input_path, subdir)\n",
    "    output_image_path = os.path.join(output_path, subdir)\n",
    "    if not os.path.exists(output_image_path):\n",
    "        os.makedirs(output_image_path)\n",
    "    dense_optical_flow(method, image_path, output_image_path, params=params, to_gray=True)"
   ]
  },
  {
   "cell_type": "markdown",
   "metadata": {},
   "source": [
    "## 3. Converting images to video"
   ]
  },
  {
   "cell_type": "code",
   "execution_count": 80,
   "metadata": {},
   "outputs": [
    {
     "name": "stdout",
     "output_type": "stream",
     "text": [
      "Image path: /home/jansp/Documents/Colorization/Datasets/DAVIS/JPEGImages/480p\n",
      "Video path: /home/jansp/Documents/Colorization/Datasets/DAVIS/MP4Videos/480p\n",
      "Number of subdirectories: 30\n"
     ]
    }
   ],
   "source": [
    "image_path = os.path.join(dataset_path, 'JPEGImages', '480p')\n",
    "video_path = os.path.join(dataset_path, 'MP4Videos', '480p')\n",
    "\n",
    "if not os.path.exists(video_path):\n",
    "    os.makedirs(video_path)\n",
    "\n",
    "print('Image path: {}'.format(image_path))\n",
    "print('Video path: {}'.format(video_path))\n",
    "\n",
    "subdirs = os.listdir(image_path)\n",
    "print('Number of subdirectories: {}'.format(len(subdirs)))"
   ]
  },
  {
   "cell_type": "code",
   "execution_count": 81,
   "metadata": {},
   "outputs": [
    {
     "name": "stderr",
     "output_type": "stream",
     "text": [
      "100%|██████████| 30/30 [00:10<00:00,  2.77it/s]\n"
     ]
    }
   ],
   "source": [
    "fps = 24\n",
    "\n",
    "for subdir in tqdm(subdirs):\n",
    "    image_folder = os.path.join(image_path, subdir)\n",
    "    video_name = os.path.join(video_path, subdir + '.avi')\n",
    "    image_names = os.listdir(image_folder)\n",
    "    image_names.sort()\n",
    "    frame = cv2.imread(os.path.join(image_folder, images[0]))\n",
    "    height, width, layers = frame.shape\n",
    "\n",
    "    video = cv2.VideoWriter(video_name, 0, fps, (width,height))\n",
    "\n",
    "    for image in image_names:\n",
    "        video.write(cv2.imread(os.path.join(image_folder, image)))\n",
    "\n",
    "    cv2.destroyAllWindows()\n",
    "    video.release()"
   ]
  },
  {
   "cell_type": "code",
   "execution_count": null,
   "metadata": {},
   "outputs": [],
   "source": []
  }
 ],
 "metadata": {
  "kernelspec": {
   "display_name": "colorize",
   "language": "python",
   "name": "python3"
  },
  "language_info": {
   "codemirror_mode": {
    "name": "ipython",
    "version": 3
   },
   "file_extension": ".py",
   "mimetype": "text/x-python",
   "name": "python",
   "nbconvert_exporter": "python",
   "pygments_lexer": "ipython3",
   "version": "3.11.4"
  },
  "orig_nbformat": 4
 },
 "nbformat": 4,
 "nbformat_minor": 2
}
