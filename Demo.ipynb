{
 "cells": [
  {
   "cell_type": "code",
   "execution_count": 48,
   "metadata": {},
   "outputs": [],
   "source": [
    "import os\n",
    "\n",
    "import torch\n",
    "import torch.nn as nn\n",
    "from torch.utils.data import DataLoader\n",
    "import numpy as np\n",
    "from tqdm import tqdm\n",
    "\n",
    "import matplotlib.pyplot as plt\n",
    "import cv2"
   ]
  },
  {
   "cell_type": "markdown",
   "metadata": {},
   "source": [
    "# Demo of the trained Colorization Model"
   ]
  },
  {
   "cell_type": "markdown",
   "metadata": {},
   "source": [
    "For now just colorizes the images of a video, and stores them as a new video."
   ]
  },
  {
   "cell_type": "code",
   "execution_count": 49,
   "metadata": {},
   "outputs": [],
   "source": [
    "def make_dir(path):\n",
    "    if not os.path.exists(path):\n",
    "        os.makedirs(path)"
   ]
  },
  {
   "cell_type": "markdown",
   "metadata": {},
   "source": [
    "## 1. Data Loading\n",
    "\n",
    "using the pytorch dataloader and dataset implementation from DataLoad.py"
   ]
  },
  {
   "cell_type": "code",
   "execution_count": 50,
   "metadata": {},
   "outputs": [],
   "source": [
    "from DataLoad import CustomImageDataset, data_to_images\n",
    "from format_transforms import *"
   ]
  },
  {
   "cell_type": "code",
   "execution_count": 51,
   "metadata": {},
   "outputs": [
    {
     "name": "stdout",
     "output_type": "stream",
     "text": [
      "vid labels: ['basketball-game', 'bmx-rider', 'butterfly', 'car-competition', 'cat', 'chairlift', 'circus', 'dog-competition', 'dolphins-show', 'drone-flying', 'ducks', 'giraffes', 'gym-ball', 'helicopter-landing', 'horse-race', 'hurdles-race', 'ice-hockey', 'jet-ski', 'juggling-selfie', 'kids-robot', 'mantaray', 'mascot', 'motorbike-race', 'obstacles', 'plane-exhibition', 'robot-battle', 'snowboard-race', 'swimmer', 'tram', 'trucks-race']\n",
      "Dataset size: 2264\n"
     ]
    }
   ],
   "source": [
    "use_flow=True\n",
    "\n",
    "dataset = CustomImageDataset(resolution='176p', use_flow=use_flow)\n",
    "\n",
    "dataset_size = len(dataset)\n",
    "print('Dataset size:', dataset_size)"
   ]
  },
  {
   "cell_type": "markdown",
   "metadata": {},
   "source": [
    "## 2. Model Loading"
   ]
  },
  {
   "cell_type": "code",
   "execution_count": 52,
   "metadata": {},
   "outputs": [
    {
     "name": "stdout",
     "output_type": "stream",
     "text": [
      "Cuda available:  True\n",
      "Using device:  cpu\n"
     ]
    }
   ],
   "source": [
    "from Model_UNet import UNet\n",
    "from DataLoad import CustomImageDataset, data_to_images, images_to_data\n",
    "\n",
    "print(\"Cuda available: \", torch.cuda.is_available())\n",
    "\n",
    "#device = torch.device(\"cuda\" if torch.cuda.is_available() else \"cpu\")\n",
    "device = torch.device(\"cpu\")\n",
    "\n",
    "print(\"Using device: \", device)"
   ]
  },
  {
   "cell_type": "code",
   "execution_count": 53,
   "metadata": {},
   "outputs": [],
   "source": [
    "#initialize model\n",
    "if use_flow:\n",
    "    n_input_channels = 6\n",
    "else:\n",
    "    n_input_channels = 4\n",
    "\n",
    "model = UNet(n_input_channels=n_input_channels)\n",
    "model.to(device)\n",
    "\n",
    "# Hyperparameters\n",
    "learning_rate = 1e-3\n",
    "batch_size = 16\n",
    "epochs = 300\n",
    "\n",
    "# Initialize the loss function\n",
    "loss_fn = nn.MSELoss()\n",
    "\n",
    "\n",
    "# Data loader\n",
    "train_dataloader = DataLoader(dataset, batch_size=batch_size, shuffle=True)"
   ]
  },
  {
   "cell_type": "code",
   "execution_count": 54,
   "metadata": {},
   "outputs": [],
   "source": [
    "model_path = '~/Documents/Colorization/Models/'\n",
    "UNet_folder = 'UNet'\n",
    "model_path = os.path.expanduser(model_path)\n",
    "UNet_folder = os.path.join(model_path, UNet_folder)\n",
    "\n",
    "def checkpoint(model, filename):\n",
    "    filename = os.path.join(UNet_folder, filename)\n",
    "    torch.save(model.state_dict(), filename)\n",
    "    \n",
    "def resume(model, filename):\n",
    "    filename = os.path.join(UNet_folder, filename)\n",
    "    model.load_state_dict(torch.load(filename))"
   ]
  },
  {
   "cell_type": "code",
   "execution_count": 55,
   "metadata": {},
   "outputs": [],
   "source": [
    "model_folder = 'UNet_Flow_'+str(epochs)+'_epochs'\n",
    "\n",
    "filename = 'UNet_Flow_epoch_295.pth'\n",
    "\n",
    "resume(model, os.path.join(model_folder, filename))"
   ]
  },
  {
   "cell_type": "markdown",
   "metadata": {},
   "source": [
    "## 3. Video Rendering"
   ]
  },
  {
   "cell_type": "code",
   "execution_count": 57,
   "metadata": {},
   "outputs": [],
   "source": [
    "\n",
    "dataset_path = '~/Documents/Colorization/Datasets/'\n",
    "dataset_name = 'DAVIS'\n",
    "image_folder = 'JPEGImages'\n",
    "\n",
    "dataset_path = os.path.expanduser(dataset_path)\n",
    "dataset_path = os.path.join(dataset_path, dataset_name)\n",
    "img_folder_path = os.path.join(dataset_path, image_folder)\n",
    "nd_array_path = os.path.join(dataset_path, 'nd_arrays')\n",
    "nd_array_path = os.path.join(nd_array_path, '176p_deepflow')\n",
    "\n",
    "resolution = '176p'\n",
    "label = 'gray'\n",
    "img_folder_path = os.path.join(img_folder_path, resolution+'_'+label)"
   ]
  },
  {
   "cell_type": "code",
   "execution_count": 58,
   "metadata": {},
   "outputs": [],
   "source": [
    "save_label = 'UNet_Flow'"
   ]
  },
  {
   "cell_type": "code",
   "execution_count": 59,
   "metadata": {},
   "outputs": [],
   "source": [
    "def load_image(image_path):\n",
    "    image = cv2.imread(image_path)\n",
    "    image = cv2.cvtColor(image, cv2.COLOR_BGR2RGB)\n",
    "    return image\n",
    "\n",
    "def save_image(image, image_path):\n",
    "    cv2.imwrite(image_path, image)"
   ]
  },
  {
   "cell_type": "code",
   "execution_count": 68,
   "metadata": {},
   "outputs": [
    {
     "name": "stdout",
     "output_type": "stream",
     "text": [
      "Video name: circus\n",
      "Number of frames: 73\n",
      "/home/jansp/Documents/Colorization/Datasets/DAVIS/JPEGImages/176p/circus/00000.jpg\n",
      "Video name: mascot\n",
      "Number of frames: 78\n",
      "/home/jansp/Documents/Colorization/Datasets/DAVIS/JPEGImages/176p/mascot/00000.jpg\n",
      "Video name: helicopter-landing\n",
      "Number of frames: 77\n",
      "/home/jansp/Documents/Colorization/Datasets/DAVIS/JPEGImages/176p/helicopter-landing/00000.jpg\n",
      "Video name: ducks\n",
      "Number of frames: 75\n",
      "/home/jansp/Documents/Colorization/Datasets/DAVIS/JPEGImages/176p/ducks/00000.jpg\n",
      "Video name: kids-robot\n",
      "Number of frames: 75\n",
      "/home/jansp/Documents/Colorization/Datasets/DAVIS/JPEGImages/176p/kids-robot/00000.jpg\n",
      "Video name: car-competition\n",
      "Number of frames: 66\n",
      "/home/jansp/Documents/Colorization/Datasets/DAVIS/JPEGImages/176p/car-competition/00000.jpg\n",
      "Video name: jet-ski\n",
      "Number of frames: 83\n",
      "/home/jansp/Documents/Colorization/Datasets/DAVIS/JPEGImages/176p/jet-ski/00000.jpg\n",
      "Video name: cat\n",
      "Number of frames: 52\n",
      "/home/jansp/Documents/Colorization/Datasets/DAVIS/JPEGImages/176p/cat/00000.jpg\n",
      "Video name: robot-battle\n",
      "Number of frames: 85\n",
      "/home/jansp/Documents/Colorization/Datasets/DAVIS/JPEGImages/176p/robot-battle/00000.jpg\n",
      "Video name: ice-hockey\n",
      "Number of frames: 52\n",
      "/home/jansp/Documents/Colorization/Datasets/DAVIS/JPEGImages/176p/ice-hockey/00000.jpg\n",
      "Video name: hurdles-race\n",
      "Number of frames: 55\n",
      "/home/jansp/Documents/Colorization/Datasets/DAVIS/JPEGImages/176p/hurdles-race/00000.jpg\n",
      "Video name: snowboard-race\n",
      "Number of frames: 75\n",
      "/home/jansp/Documents/Colorization/Datasets/DAVIS/JPEGImages/176p/snowboard-race/00000.jpg\n",
      "Video name: mantaray\n",
      "Number of frames: 73\n",
      "/home/jansp/Documents/Colorization/Datasets/DAVIS/JPEGImages/176p/mantaray/00000.jpg\n",
      "Video name: basketball-game\n",
      "Number of frames: 77\n",
      "/home/jansp/Documents/Colorization/Datasets/DAVIS/JPEGImages/176p/basketball-game/00000.jpg\n",
      "Video name: trucks-race\n",
      "Number of frames: 78\n",
      "/home/jansp/Documents/Colorization/Datasets/DAVIS/JPEGImages/176p/trucks-race/00000.jpg\n",
      "Video name: chairlift\n",
      "Number of frames: 99\n",
      "/home/jansp/Documents/Colorization/Datasets/DAVIS/JPEGImages/176p/chairlift/00000.jpg\n",
      "Video name: dolphins-show\n",
      "Number of frames: 74\n",
      "/home/jansp/Documents/Colorization/Datasets/DAVIS/JPEGImages/176p/dolphins-show/00000.jpg\n",
      "Video name: dog-competition\n",
      "Number of frames: 85\n",
      "/home/jansp/Documents/Colorization/Datasets/DAVIS/JPEGImages/176p/dog-competition/00000.jpg\n",
      "Video name: giraffes\n",
      "Number of frames: 88\n",
      "/home/jansp/Documents/Colorization/Datasets/DAVIS/JPEGImages/176p/giraffes/00000.jpg\n",
      "Video name: swimmer\n",
      "Number of frames: 86\n",
      "/home/jansp/Documents/Colorization/Datasets/DAVIS/JPEGImages/176p/swimmer/00000.jpg\n",
      "Video name: drone-flying\n",
      "Number of frames: 70\n",
      "/home/jansp/Documents/Colorization/Datasets/DAVIS/JPEGImages/176p/drone-flying/00000.jpg\n",
      "Video name: motorbike-race\n",
      "Number of frames: 88\n",
      "/home/jansp/Documents/Colorization/Datasets/DAVIS/JPEGImages/176p/motorbike-race/00000.jpg\n",
      "Video name: juggling-selfie\n",
      "Number of frames: 78\n",
      "/home/jansp/Documents/Colorization/Datasets/DAVIS/JPEGImages/176p/juggling-selfie/00000.jpg\n",
      "Video name: tram\n",
      "Number of frames: 84\n",
      "/home/jansp/Documents/Colorization/Datasets/DAVIS/JPEGImages/176p/tram/00000.jpg\n",
      "Video name: bmx-rider\n",
      "Number of frames: 85\n",
      "/home/jansp/Documents/Colorization/Datasets/DAVIS/JPEGImages/176p/bmx-rider/00000.jpg\n",
      "Video name: plane-exhibition\n",
      "Number of frames: 73\n",
      "/home/jansp/Documents/Colorization/Datasets/DAVIS/JPEGImages/176p/plane-exhibition/00000.jpg\n",
      "Video name: horse-race\n",
      "Number of frames: 80\n",
      "/home/jansp/Documents/Colorization/Datasets/DAVIS/JPEGImages/176p/horse-race/00000.jpg\n",
      "Video name: obstacles\n",
      "Number of frames: 81\n",
      "/home/jansp/Documents/Colorization/Datasets/DAVIS/JPEGImages/176p/obstacles/00000.jpg\n",
      "Video name: butterfly\n",
      "Number of frames: 80\n",
      "/home/jansp/Documents/Colorization/Datasets/DAVIS/JPEGImages/176p/butterfly/00000.jpg\n",
      "Video name: gym-ball\n",
      "Number of frames: 69\n",
      "/home/jansp/Documents/Colorization/Datasets/DAVIS/JPEGImages/176p/gym-ball/00000.jpg\n"
     ]
    }
   ],
   "source": [
    "for video_name in os.listdir(img_folder_path):\n",
    "    print('Video name:', video_name)\n",
    "    video_path = os.path.join(img_folder_path, video_name)\n",
    "    save_path = '~/Documents/Colorization/Results/'\n",
    "    save_path = os.path.expanduser(save_path)\n",
    "    save_path = os.path.join(save_path, save_label, video_name)\n",
    "    make_dir(save_path)\n",
    "    still_path = os.path.join(save_path, 'stills')\n",
    "    make_dir(still_path)\n",
    "\n",
    "    n_frames = len(os.listdir(video_path))\n",
    "    print('Number of frames:', n_frames)\n",
    "\n",
    "    col_img = load_image(os.path.join(dataset_path, image_folder,resolution,video_name, '00000.jpg'))\n",
    "    print(os.path.join(dataset_path, image_folder,resolution,video_name, '00000.jpg'))\n",
    "\n",
    "\n",
    "    gray_img = None\n",
    "    flow_img = None\n",
    "    i = 1\n",
    "    while i < n_frames:\n",
    "        img_path = os.path.join(video_path, str(i).zfill(5)+'.jpg')\n",
    "        gray_img = load_image(img_path)\n",
    "        if use_flow:\n",
    "            flow_frame = flow_frame = os.path.join(nd_array_path,video_name, str(i).zfill(5) + '.jpg.npy')\n",
    "            flow_img = np.load(flow_frame)\n",
    "        \n",
    "        input, _ = images_to_data(col_img, flow_img, gray_img)\n",
    "        \n",
    "        prediction = model(input.unsqueeze(0).to(device))\n",
    "        prediction = prediction.cpu()\n",
    "        prediction = prediction.detach()\n",
    "        prediction = prediction.squeeze(0)\n",
    "\n",
    "        _, flow_img, grey_img, pred_img = data_to_images(input, prediction, use_flow=use_flow, input_only=False)\n",
    "\n",
    "        col_img = cv2.cvtColor(pred_img, cv2.COLOR_RGB2BGR)\n",
    "\n",
    "        if i%2==0:\n",
    "            save_image(pred_img, os.path.join(still_path, str(i).zfill(5)+'.jpg'))\n",
    "        else:\n",
    "            save_image(cv2.cvtColor(pred_img, cv2.COLOR_RGB2BGR), os.path.join(still_path, str(i).zfill(5)+'.jpg'))\n",
    "\n",
    "        col_img = pred_img\n",
    "        i+=1\n",
    "\n",
    "    images_2_video(still_path, os.path.join(save_path, video_name+'.avi'), fps=10)"
   ]
  },
  {
   "cell_type": "code",
   "execution_count": null,
   "metadata": {},
   "outputs": [],
   "source": []
  },
  {
   "cell_type": "code",
   "execution_count": null,
   "metadata": {},
   "outputs": [],
   "source": []
  }
 ],
 "metadata": {
  "kernelspec": {
   "display_name": "colorize",
   "language": "python",
   "name": "python3"
  },
  "language_info": {
   "codemirror_mode": {
    "name": "ipython",
    "version": 3
   },
   "file_extension": ".py",
   "mimetype": "text/x-python",
   "name": "python",
   "nbconvert_exporter": "python",
   "pygments_lexer": "ipython3",
   "version": "3.11.4"
  },
  "orig_nbformat": 4
 },
 "nbformat": 4,
 "nbformat_minor": 2
}
