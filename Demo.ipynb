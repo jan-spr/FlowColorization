{
 "cells": [
  {
   "cell_type": "code",
   "execution_count": 1,
   "metadata": {},
   "outputs": [],
   "source": [
    "import os\n",
    "\n",
    "import torch\n",
    "import torch.nn as nn\n",
    "from torch.utils.data import DataLoader\n",
    "import numpy as np\n",
    "from tqdm import tqdm\n",
    "\n",
    "import matplotlib.pyplot as plt\n",
    "import cv2"
   ]
  },
  {
   "cell_type": "markdown",
   "metadata": {},
   "source": [
    "# Demo of the trained Colorization Model"
   ]
  },
  {
   "cell_type": "markdown",
   "metadata": {},
   "source": [
    "For now just colorizes the images of a video, and stores them as a new video."
   ]
  },
  {
   "cell_type": "code",
   "execution_count": 2,
   "metadata": {},
   "outputs": [],
   "source": [
    "from DataLoad import CustomImageDataset, data_to_images\n",
    "from format_transforms import *"
   ]
  },
  {
   "cell_type": "markdown",
   "metadata": {},
   "source": [
    "## 1. Data Loading\n",
    "\n",
    "using the pytorch dataloader and dataset implementation from DataLoad.py"
   ]
  },
  {
   "cell_type": "code",
   "execution_count": 3,
   "metadata": {},
   "outputs": [
    {
     "name": "stdout",
     "output_type": "stream",
     "text": [
      "vid labels: ['bear', 'bike-packing', 'blackswan', 'bmx-bumps', 'bmx-trees', 'boat', 'boxing-fisheye', 'breakdance', 'breakdance-flare', 'bus', 'camel', 'car-roundabout', 'car-shadow', 'car-turn', 'cat-girl', 'classic-car', 'color-run', 'cows', 'crossing', 'dance-jump', 'dance-twirl', 'dancing', 'disc-jockey', 'dog', 'dog-agility', 'dog-gooses', 'dogs-jump', 'dogs-scale', 'drift-chicane', 'drift-straight', 'drift-turn', 'drone', 'elephant', 'flamingo', 'goat', 'gold-fish', 'hike', 'hockey', 'horsejump-high', 'horsejump-low', 'india', 'judo', 'kid-football', 'kite-surf', 'kite-walk', 'koala', 'lab-coat', 'lady-running', 'libby', 'lindy-hop', 'loading', 'longboard', 'lucia', 'mallard-fly', 'mallard-water', 'mbike-trick', 'miami-surf', 'motocross-bumps', 'motocross-jump', 'motorbike', 'night-race', 'paragliding', 'paragliding-launch', 'parkour', 'pigs', 'planes-water', 'rallye', 'rhino', 'rollerblade', 'schoolgirls', 'scooter-black', 'scooter-board', 'scooter-gray', 'sheep', 'shooting', 'skate-park', 'snowboard', 'soapbox', 'soccerball', 'stroller', 'stunt', 'surf', 'swing', 'tennis', 'tractor-sand', 'train', 'tuk-tuk', 'upside-down', 'varanus-cage', 'walking']\n",
      "Dataset size: 6118\n"
     ]
    }
   ],
   "source": [
    "use_flow=True\n",
    "\n",
    "dataset = CustomImageDataset(resolution='176p', use_flow=use_flow)\n",
    "\n",
    "dataset_size = len(dataset)\n",
    "print('Dataset size:', dataset_size)"
   ]
  },
  {
   "cell_type": "markdown",
   "metadata": {},
   "source": [
    "## 2. Model Loading"
   ]
  },
  {
   "cell_type": "code",
   "execution_count": 4,
   "metadata": {},
   "outputs": [
    {
     "name": "stdout",
     "output_type": "stream",
     "text": [
      "Cuda available:  True\n",
      "Using device:  cpu\n"
     ]
    }
   ],
   "source": [
    "from Model_UNet import UNet\n",
    "from DataLoad import CustomImageDataset, data_to_images, images_to_data\n",
    "\n",
    "print(\"Cuda available: \", torch.cuda.is_available())\n",
    "\n",
    "#device = torch.device(\"cuda\" if torch.cuda.is_available() else \"cpu\")\n",
    "device = torch.device(\"cpu\")\n",
    "\n",
    "print(\"Using device: \", device)"
   ]
  },
  {
   "cell_type": "code",
   "execution_count": 5,
   "metadata": {},
   "outputs": [],
   "source": [
    "# initialize model\n",
    "if use_flow:\n",
    "    n_input_channels = 6\n",
    "else:\n",
    "    n_input_channels = 4\n",
    "\n",
    "model = UNet(n_input_channels=n_input_channels)\n",
    "# model.to(device)\n",
    "\n",
    "# Hyperparameters\n",
    "learning_rate = 1e-3\n",
    "batch_size = 16\n",
    "epochs = 300\n",
    "\n",
    "# Initialize the loss function\n",
    "loss_fn = nn.MSELoss()\n",
    "\n",
    "\n",
    "# Data loader\n",
    "train_dataloader = DataLoader(dataset, batch_size=batch_size, shuffle=True)"
   ]
  },
  {
   "cell_type": "code",
   "execution_count": 6,
   "metadata": {},
   "outputs": [],
   "source": [
    "model_path = '~/Documents/Colorization/Models/'\n",
    "UNet_folder = 'UNet'\n",
    "model_path = os.path.expanduser(model_path)\n",
    "UNet_folder = os.path.join(model_path, UNet_folder)\n",
    "\n",
    "def checkpoint(model, filename):\n",
    "    filename = os.path.join(UNet_folder, filename)\n",
    "    torch.save(model.state_dict(), filename)\n",
    "    \n",
    "def resume(model, filename):\n",
    "    filename = os.path.join(UNet_folder, filename)\n",
    "    model.load_state_dict(torch.load(filename))"
   ]
  },
  {
   "cell_type": "code",
   "execution_count": 7,
   "metadata": {},
   "outputs": [
    {
     "ename": "RuntimeError",
     "evalue": "CUDA error: out of memory\nCUDA kernel errors might be asynchronously reported at some other API call, so the stacktrace below might be incorrect.\nFor debugging consider passing CUDA_LAUNCH_BLOCKING=1.\nCompile with `TORCH_USE_CUDA_DSA` to enable device-side assertions.\n",
     "output_type": "error",
     "traceback": [
      "\u001b[0;31m---------------------------------------------------------------------------\u001b[0m",
      "\u001b[0;31mRuntimeError\u001b[0m                              Traceback (most recent call last)",
      "\u001b[1;32m/home/jansp/Documents/Colorization/my code/FlowColorization/Demo.ipynb Cell 11\u001b[0m line \u001b[0;36m5\n\u001b[1;32m      <a href='vscode-notebook-cell:/home/jansp/Documents/Colorization/my%20code/FlowColorization/Demo.ipynb#X14sZmlsZQ%3D%3D?line=0'>1</a>\u001b[0m model_folder \u001b[39m=\u001b[39m \u001b[39m'\u001b[39m\u001b[39mUNet_farneback_\u001b[39m\u001b[39m'\u001b[39m\u001b[39m+\u001b[39m\u001b[39mstr\u001b[39m(\u001b[39m150\u001b[39m)\u001b[39m+\u001b[39m\u001b[39m'\u001b[39m\u001b[39m_epochs\u001b[39m\u001b[39m'\u001b[39m\n\u001b[1;32m      <a href='vscode-notebook-cell:/home/jansp/Documents/Colorization/my%20code/FlowColorization/Demo.ipynb#X14sZmlsZQ%3D%3D?line=2'>3</a>\u001b[0m filename \u001b[39m=\u001b[39m \u001b[39m'\u001b[39m\u001b[39mUNet_farneback_epoch_149.pth\u001b[39m\u001b[39m'\u001b[39m\n\u001b[0;32m----> <a href='vscode-notebook-cell:/home/jansp/Documents/Colorization/my%20code/FlowColorization/Demo.ipynb#X14sZmlsZQ%3D%3D?line=4'>5</a>\u001b[0m resume(model, os\u001b[39m.\u001b[39mpath\u001b[39m.\u001b[39mjoin(model_folder, filename))\n",
      "\u001b[1;32m/home/jansp/Documents/Colorization/my code/FlowColorization/Demo.ipynb Cell 11\u001b[0m line \u001b[0;36m1\n\u001b[1;32m     <a href='vscode-notebook-cell:/home/jansp/Documents/Colorization/my%20code/FlowColorization/Demo.ipynb#X14sZmlsZQ%3D%3D?line=9'>10</a>\u001b[0m \u001b[39mdef\u001b[39;00m \u001b[39mresume\u001b[39m(model, filename):\n\u001b[1;32m     <a href='vscode-notebook-cell:/home/jansp/Documents/Colorization/my%20code/FlowColorization/Demo.ipynb#X14sZmlsZQ%3D%3D?line=10'>11</a>\u001b[0m     filename \u001b[39m=\u001b[39m os\u001b[39m.\u001b[39mpath\u001b[39m.\u001b[39mjoin(UNet_folder, filename)\n\u001b[0;32m---> <a href='vscode-notebook-cell:/home/jansp/Documents/Colorization/my%20code/FlowColorization/Demo.ipynb#X14sZmlsZQ%3D%3D?line=11'>12</a>\u001b[0m     model\u001b[39m.\u001b[39mload_state_dict(torch\u001b[39m.\u001b[39mload(filename))\n",
      "File \u001b[0;32m~/miniconda3/envs/colorize/lib/python3.11/site-packages/torch/serialization.py:809\u001b[0m, in \u001b[0;36mload\u001b[0;34m(f, map_location, pickle_module, weights_only, **pickle_load_args)\u001b[0m\n\u001b[1;32m    807\u001b[0m             \u001b[39mexcept\u001b[39;00m \u001b[39mRuntimeError\u001b[39;00m \u001b[39mas\u001b[39;00m e:\n\u001b[1;32m    808\u001b[0m                 \u001b[39mraise\u001b[39;00m pickle\u001b[39m.\u001b[39mUnpicklingError(UNSAFE_MESSAGE \u001b[39m+\u001b[39m \u001b[39mstr\u001b[39m(e)) \u001b[39mfrom\u001b[39;00m \u001b[39mNone\u001b[39;00m\n\u001b[0;32m--> 809\u001b[0m         \u001b[39mreturn\u001b[39;00m _load(opened_zipfile, map_location, pickle_module, \u001b[39m*\u001b[39m\u001b[39m*\u001b[39mpickle_load_args)\n\u001b[1;32m    810\u001b[0m \u001b[39mif\u001b[39;00m weights_only:\n\u001b[1;32m    811\u001b[0m     \u001b[39mtry\u001b[39;00m:\n",
      "File \u001b[0;32m~/miniconda3/envs/colorize/lib/python3.11/site-packages/torch/serialization.py:1172\u001b[0m, in \u001b[0;36m_load\u001b[0;34m(zip_file, map_location, pickle_module, pickle_file, **pickle_load_args)\u001b[0m\n\u001b[1;32m   1170\u001b[0m unpickler \u001b[39m=\u001b[39m UnpicklerWrapper(data_file, \u001b[39m*\u001b[39m\u001b[39m*\u001b[39mpickle_load_args)\n\u001b[1;32m   1171\u001b[0m unpickler\u001b[39m.\u001b[39mpersistent_load \u001b[39m=\u001b[39m persistent_load\n\u001b[0;32m-> 1172\u001b[0m result \u001b[39m=\u001b[39m unpickler\u001b[39m.\u001b[39mload()\n\u001b[1;32m   1174\u001b[0m torch\u001b[39m.\u001b[39m_utils\u001b[39m.\u001b[39m_validate_loaded_sparse_tensors()\n\u001b[1;32m   1176\u001b[0m \u001b[39mreturn\u001b[39;00m result\n",
      "File \u001b[0;32m~/miniconda3/envs/colorize/lib/python3.11/site-packages/torch/serialization.py:1142\u001b[0m, in \u001b[0;36m_load.<locals>.persistent_load\u001b[0;34m(saved_id)\u001b[0m\n\u001b[1;32m   1140\u001b[0m \u001b[39melse\u001b[39;00m:\n\u001b[1;32m   1141\u001b[0m     nbytes \u001b[39m=\u001b[39m numel \u001b[39m*\u001b[39m torch\u001b[39m.\u001b[39m_utils\u001b[39m.\u001b[39m_element_size(dtype)\n\u001b[0;32m-> 1142\u001b[0m     typed_storage \u001b[39m=\u001b[39m load_tensor(dtype, nbytes, key, _maybe_decode_ascii(location))\n\u001b[1;32m   1144\u001b[0m \u001b[39mreturn\u001b[39;00m typed_storage\n",
      "File \u001b[0;32m~/miniconda3/envs/colorize/lib/python3.11/site-packages/torch/serialization.py:1116\u001b[0m, in \u001b[0;36m_load.<locals>.load_tensor\u001b[0;34m(dtype, numel, key, location)\u001b[0m\n\u001b[1;32m   1112\u001b[0m storage \u001b[39m=\u001b[39m zip_file\u001b[39m.\u001b[39mget_storage_from_record(name, numel, torch\u001b[39m.\u001b[39mUntypedStorage)\u001b[39m.\u001b[39m_typed_storage()\u001b[39m.\u001b[39m_untyped_storage\n\u001b[1;32m   1113\u001b[0m \u001b[39m# TODO: Once we decide to break serialization FC, we can\u001b[39;00m\n\u001b[1;32m   1114\u001b[0m \u001b[39m# stop wrapping with TypedStorage\u001b[39;00m\n\u001b[1;32m   1115\u001b[0m typed_storage \u001b[39m=\u001b[39m torch\u001b[39m.\u001b[39mstorage\u001b[39m.\u001b[39mTypedStorage(\n\u001b[0;32m-> 1116\u001b[0m     wrap_storage\u001b[39m=\u001b[39mrestore_location(storage, location),\n\u001b[1;32m   1117\u001b[0m     dtype\u001b[39m=\u001b[39mdtype,\n\u001b[1;32m   1118\u001b[0m     _internal\u001b[39m=\u001b[39m\u001b[39mTrue\u001b[39;00m)\n\u001b[1;32m   1120\u001b[0m \u001b[39mif\u001b[39;00m typed_storage\u001b[39m.\u001b[39m_data_ptr() \u001b[39m!=\u001b[39m \u001b[39m0\u001b[39m:\n\u001b[1;32m   1121\u001b[0m     loaded_storages[key] \u001b[39m=\u001b[39m typed_storage\n",
      "File \u001b[0;32m~/miniconda3/envs/colorize/lib/python3.11/site-packages/torch/serialization.py:217\u001b[0m, in \u001b[0;36mdefault_restore_location\u001b[0;34m(storage, location)\u001b[0m\n\u001b[1;32m    215\u001b[0m \u001b[39mdef\u001b[39;00m \u001b[39mdefault_restore_location\u001b[39m(storage, location):\n\u001b[1;32m    216\u001b[0m     \u001b[39mfor\u001b[39;00m _, _, fn \u001b[39min\u001b[39;00m _package_registry:\n\u001b[0;32m--> 217\u001b[0m         result \u001b[39m=\u001b[39m fn(storage, location)\n\u001b[1;32m    218\u001b[0m         \u001b[39mif\u001b[39;00m result \u001b[39mis\u001b[39;00m \u001b[39mnot\u001b[39;00m \u001b[39mNone\u001b[39;00m:\n\u001b[1;32m    219\u001b[0m             \u001b[39mreturn\u001b[39;00m result\n",
      "File \u001b[0;32m~/miniconda3/envs/colorize/lib/python3.11/site-packages/torch/serialization.py:187\u001b[0m, in \u001b[0;36m_cuda_deserialize\u001b[0;34m(obj, location)\u001b[0m\n\u001b[1;32m    185\u001b[0m         \u001b[39mreturn\u001b[39;00m torch\u001b[39m.\u001b[39mUntypedStorage(obj\u001b[39m.\u001b[39mnbytes(), device\u001b[39m=\u001b[39mtorch\u001b[39m.\u001b[39mdevice(location))\n\u001b[1;32m    186\u001b[0m \u001b[39melse\u001b[39;00m:\n\u001b[0;32m--> 187\u001b[0m     \u001b[39mreturn\u001b[39;00m obj\u001b[39m.\u001b[39mcuda(device)\n",
      "File \u001b[0;32m~/miniconda3/envs/colorize/lib/python3.11/site-packages/torch/_utils.py:81\u001b[0m, in \u001b[0;36m_cuda\u001b[0;34m(self, device, non_blocking, **kwargs)\u001b[0m\n\u001b[1;32m     79\u001b[0m     \u001b[39mreturn\u001b[39;00m new_type(indices, values, \u001b[39mself\u001b[39m\u001b[39m.\u001b[39msize())\n\u001b[1;32m     80\u001b[0m \u001b[39melse\u001b[39;00m:\n\u001b[0;32m---> 81\u001b[0m     untyped_storage \u001b[39m=\u001b[39m torch\u001b[39m.\u001b[39mUntypedStorage(\n\u001b[1;32m     82\u001b[0m         \u001b[39mself\u001b[39m\u001b[39m.\u001b[39msize(), device\u001b[39m=\u001b[39mtorch\u001b[39m.\u001b[39mdevice(\u001b[39m\"\u001b[39m\u001b[39mcuda\u001b[39m\u001b[39m\"\u001b[39m)\n\u001b[1;32m     83\u001b[0m     )\n\u001b[1;32m     84\u001b[0m     untyped_storage\u001b[39m.\u001b[39mcopy_(\u001b[39mself\u001b[39m, non_blocking)\n\u001b[1;32m     85\u001b[0m     \u001b[39mreturn\u001b[39;00m untyped_storage\n",
      "\u001b[0;31mRuntimeError\u001b[0m: CUDA error: out of memory\nCUDA kernel errors might be asynchronously reported at some other API call, so the stacktrace below might be incorrect.\nFor debugging consider passing CUDA_LAUNCH_BLOCKING=1.\nCompile with `TORCH_USE_CUDA_DSA` to enable device-side assertions.\n"
     ]
    }
   ],
   "source": [
    "model_folder = 'UNet_farneback_'+str(150)+'_epochs'\n",
    "\n",
    "filename = 'UNet_farneback_epoch_149.pth'\n",
    "\n",
    "resume(model, os.path.join(model_folder, filename))"
   ]
  },
  {
   "cell_type": "markdown",
   "metadata": {},
   "source": [
    "## 3. Video Rendering"
   ]
  },
  {
   "cell_type": "code",
   "execution_count": 57,
   "metadata": {},
   "outputs": [],
   "source": [
    "\n",
    "dataset_path = '~/Documents/Colorization/Datasets/'\n",
    "dataset_name = 'DAVIS'\n",
    "image_folder = 'JPEGImages'\n",
    "\n",
    "dataset_path = os.path.expanduser(dataset_path)\n",
    "dataset_path = os.path.join(dataset_path, dataset_name)\n",
    "img_folder_path = os.path.join(dataset_path, image_folder)\n",
    "nd_array_path = os.path.join(dataset_path, 'nd_arrays')\n",
    "nd_array_path = os.path.join(nd_array_path, '176p_deepflow')\n",
    "\n",
    "resolution = '176p'\n",
    "label = 'gray'\n",
    "img_folder_path = os.path.join(img_folder_path, resolution+'_'+label)"
   ]
  },
  {
   "cell_type": "code",
   "execution_count": 58,
   "metadata": {},
   "outputs": [],
   "source": [
    "save_label = 'UNet_Flow'"
   ]
  },
  {
   "cell_type": "code",
   "execution_count": 59,
   "metadata": {},
   "outputs": [],
   "source": [
    "def load_image(image_path):\n",
    "    image = cv2.imread(image_path)\n",
    "    image = cv2.cvtColor(image, cv2.COLOR_BGR2RGB)\n",
    "    return image\n",
    "\n",
    "def save_image(image, image_path):\n",
    "    cv2.imwrite(image_path, image)"
   ]
  },
  {
   "cell_type": "code",
   "execution_count": 68,
   "metadata": {},
   "outputs": [
    {
     "name": "stdout",
     "output_type": "stream",
     "text": [
      "Video name: circus\n",
      "Number of frames: 73\n",
      "/home/jansp/Documents/Colorization/Datasets/DAVIS/JPEGImages/176p/circus/00000.jpg\n",
      "Video name: mascot\n",
      "Number of frames: 78\n",
      "/home/jansp/Documents/Colorization/Datasets/DAVIS/JPEGImages/176p/mascot/00000.jpg\n",
      "Video name: helicopter-landing\n",
      "Number of frames: 77\n",
      "/home/jansp/Documents/Colorization/Datasets/DAVIS/JPEGImages/176p/helicopter-landing/00000.jpg\n",
      "Video name: ducks\n",
      "Number of frames: 75\n",
      "/home/jansp/Documents/Colorization/Datasets/DAVIS/JPEGImages/176p/ducks/00000.jpg\n",
      "Video name: kids-robot\n",
      "Number of frames: 75\n",
      "/home/jansp/Documents/Colorization/Datasets/DAVIS/JPEGImages/176p/kids-robot/00000.jpg\n",
      "Video name: car-competition\n",
      "Number of frames: 66\n",
      "/home/jansp/Documents/Colorization/Datasets/DAVIS/JPEGImages/176p/car-competition/00000.jpg\n",
      "Video name: jet-ski\n",
      "Number of frames: 83\n",
      "/home/jansp/Documents/Colorization/Datasets/DAVIS/JPEGImages/176p/jet-ski/00000.jpg\n",
      "Video name: cat\n",
      "Number of frames: 52\n",
      "/home/jansp/Documents/Colorization/Datasets/DAVIS/JPEGImages/176p/cat/00000.jpg\n",
      "Video name: robot-battle\n",
      "Number of frames: 85\n",
      "/home/jansp/Documents/Colorization/Datasets/DAVIS/JPEGImages/176p/robot-battle/00000.jpg\n",
      "Video name: ice-hockey\n",
      "Number of frames: 52\n",
      "/home/jansp/Documents/Colorization/Datasets/DAVIS/JPEGImages/176p/ice-hockey/00000.jpg\n",
      "Video name: hurdles-race\n",
      "Number of frames: 55\n",
      "/home/jansp/Documents/Colorization/Datasets/DAVIS/JPEGImages/176p/hurdles-race/00000.jpg\n",
      "Video name: snowboard-race\n",
      "Number of frames: 75\n",
      "/home/jansp/Documents/Colorization/Datasets/DAVIS/JPEGImages/176p/snowboard-race/00000.jpg\n",
      "Video name: mantaray\n",
      "Number of frames: 73\n",
      "/home/jansp/Documents/Colorization/Datasets/DAVIS/JPEGImages/176p/mantaray/00000.jpg\n",
      "Video name: basketball-game\n",
      "Number of frames: 77\n",
      "/home/jansp/Documents/Colorization/Datasets/DAVIS/JPEGImages/176p/basketball-game/00000.jpg\n",
      "Video name: trucks-race\n",
      "Number of frames: 78\n",
      "/home/jansp/Documents/Colorization/Datasets/DAVIS/JPEGImages/176p/trucks-race/00000.jpg\n",
      "Video name: chairlift\n",
      "Number of frames: 99\n",
      "/home/jansp/Documents/Colorization/Datasets/DAVIS/JPEGImages/176p/chairlift/00000.jpg\n",
      "Video name: dolphins-show\n",
      "Number of frames: 74\n",
      "/home/jansp/Documents/Colorization/Datasets/DAVIS/JPEGImages/176p/dolphins-show/00000.jpg\n",
      "Video name: dog-competition\n",
      "Number of frames: 85\n",
      "/home/jansp/Documents/Colorization/Datasets/DAVIS/JPEGImages/176p/dog-competition/00000.jpg\n",
      "Video name: giraffes\n",
      "Number of frames: 88\n",
      "/home/jansp/Documents/Colorization/Datasets/DAVIS/JPEGImages/176p/giraffes/00000.jpg\n",
      "Video name: swimmer\n",
      "Number of frames: 86\n",
      "/home/jansp/Documents/Colorization/Datasets/DAVIS/JPEGImages/176p/swimmer/00000.jpg\n",
      "Video name: drone-flying\n",
      "Number of frames: 70\n",
      "/home/jansp/Documents/Colorization/Datasets/DAVIS/JPEGImages/176p/drone-flying/00000.jpg\n",
      "Video name: motorbike-race\n",
      "Number of frames: 88\n",
      "/home/jansp/Documents/Colorization/Datasets/DAVIS/JPEGImages/176p/motorbike-race/00000.jpg\n",
      "Video name: juggling-selfie\n",
      "Number of frames: 78\n",
      "/home/jansp/Documents/Colorization/Datasets/DAVIS/JPEGImages/176p/juggling-selfie/00000.jpg\n",
      "Video name: tram\n",
      "Number of frames: 84\n",
      "/home/jansp/Documents/Colorization/Datasets/DAVIS/JPEGImages/176p/tram/00000.jpg\n",
      "Video name: bmx-rider\n",
      "Number of frames: 85\n",
      "/home/jansp/Documents/Colorization/Datasets/DAVIS/JPEGImages/176p/bmx-rider/00000.jpg\n",
      "Video name: plane-exhibition\n",
      "Number of frames: 73\n",
      "/home/jansp/Documents/Colorization/Datasets/DAVIS/JPEGImages/176p/plane-exhibition/00000.jpg\n",
      "Video name: horse-race\n",
      "Number of frames: 80\n",
      "/home/jansp/Documents/Colorization/Datasets/DAVIS/JPEGImages/176p/horse-race/00000.jpg\n",
      "Video name: obstacles\n",
      "Number of frames: 81\n",
      "/home/jansp/Documents/Colorization/Datasets/DAVIS/JPEGImages/176p/obstacles/00000.jpg\n",
      "Video name: butterfly\n",
      "Number of frames: 80\n",
      "/home/jansp/Documents/Colorization/Datasets/DAVIS/JPEGImages/176p/butterfly/00000.jpg\n",
      "Video name: gym-ball\n",
      "Number of frames: 69\n",
      "/home/jansp/Documents/Colorization/Datasets/DAVIS/JPEGImages/176p/gym-ball/00000.jpg\n"
     ]
    }
   ],
   "source": [
    "for video_name in os.listdir(img_folder_path):\n",
    "    print('Video name:', video_name)\n",
    "    video_path = os.path.join(img_folder_path, video_name)\n",
    "    save_path = '~/Documents/Colorization/Results/'\n",
    "    save_path = os.path.expanduser(save_path)\n",
    "    save_path = os.path.join(save_path, save_label, video_name)\n",
    "    make_dir(save_path)\n",
    "    still_path = os.path.join(save_path, 'stills')\n",
    "    make_dir(still_path)\n",
    "\n",
    "    n_frames = len(os.listdir(video_path))\n",
    "    print('Number of frames:', n_frames)\n",
    "\n",
    "    col_img = load_image(os.path.join(dataset_path, image_folder,resolution,video_name, '00000.jpg'))\n",
    "    print(os.path.join(dataset_path, image_folder,resolution,video_name, '00000.jpg'))\n",
    "\n",
    "\n",
    "    gray_img = None\n",
    "    flow_img = None\n",
    "    i = 1\n",
    "    while i < n_frames:\n",
    "        img_path = os.path.join(video_path, str(i).zfill(5)+'.jpg')\n",
    "        gray_img = load_image(img_path)\n",
    "        if use_flow:\n",
    "            flow_frame = flow_frame = os.path.join(nd_array_path,video_name, str(i).zfill(5) + '.jpg.npy')\n",
    "            flow_img = np.load(flow_frame)\n",
    "        \n",
    "        input, _ = images_to_data(col_img, flow_img, gray_img)\n",
    "        \n",
    "        prediction = model(input.unsqueeze(0).to(device))\n",
    "        prediction = prediction.cpu()\n",
    "        prediction = prediction.detach()\n",
    "        prediction = prediction.squeeze(0)\n",
    "\n",
    "        _, flow_img, grey_img, pred_img = data_to_images(input, prediction, use_flow=use_flow, input_only=False)\n",
    "\n",
    "        col_img = cv2.cvtColor(pred_img, cv2.COLOR_RGB2BGR)\n",
    "\n",
    "        if i%2==0:\n",
    "            save_image(pred_img, os.path.join(still_path, str(i).zfill(5)+'.jpg'))\n",
    "        else:\n",
    "            save_image(cv2.cvtColor(pred_img, cv2.COLOR_RGB2BGR), os.path.join(still_path, str(i).zfill(5)+'.jpg'))\n",
    "\n",
    "        col_img = pred_img\n",
    "        i+=1\n",
    "\n",
    "    images_2_video(still_path, os.path.join(save_path, video_name+'.avi'), fps=10)"
   ]
  },
  {
   "cell_type": "code",
   "execution_count": null,
   "metadata": {},
   "outputs": [],
   "source": []
  },
  {
   "cell_type": "code",
   "execution_count": null,
   "metadata": {},
   "outputs": [],
   "source": []
  }
 ],
 "metadata": {
  "kernelspec": {
   "display_name": "colorize",
   "language": "python",
   "name": "python3"
  },
  "language_info": {
   "codemirror_mode": {
    "name": "ipython",
    "version": 3
   },
   "file_extension": ".py",
   "mimetype": "text/x-python",
   "name": "python",
   "nbconvert_exporter": "python",
   "pygments_lexer": "ipython3",
   "version": "3.11.4"
  },
  "orig_nbformat": 4
 },
 "nbformat": 4,
 "nbformat_minor": 2
}
